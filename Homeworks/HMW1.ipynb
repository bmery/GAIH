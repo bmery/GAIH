{
 "cells": [
  {
   "cell_type": "markdown",
   "metadata": {},
   "source": [
    "# Homework 1"
   ]
  },
  {
   "cell_type": "markdown",
   "metadata": {},
   "source": [
    "1) How would you define Machine Learning?\n",
    "2) What are the differences between Supervised and Unsupervised Learning? Specify example 3 algorithms for each of these.\n",
    "3) What are the test and validation set, and why would you want to use them?\n",
    "4) What are the main preprocessing steps? Explain them in detail. Why we need to prepare our data?\n",
    "5) How you can explore countionus and discrete variables?\n",
    "6) Analyse the plot given below. (What is the plot and variable type, check the distribution and make comment about how you can preproccess it.)"
   ]
  },
  {
   "cell_type": "markdown",
   "metadata": {},
   "source": [
    "1)Machine learning is simply how computers “think” through and execute a task without being programmed to.\n",
    "It is a subset of artificial intelligence that involves algorithms and models that can automatically analyze \n",
    "and learn data to make inferences and decisions without human intervention.\n"
   ]
  },
  {
   "cell_type": "code",
   "execution_count": null,
   "metadata": {},
   "outputs": [],
   "source": [
    "2)Supervised learning using labelled data while unsupervised learning uses unlabelled data. Supervised learning allows you to collect data or produce a data output from the previous experience.\n",
    "Unsupervised machine learning helps you to finds all kind of unknown patterns in data.\n",
    "Supervised learning :logistic regression, regression, svm,\n",
    "Unsupervised learning: K-Means Clustering,  Hierarchical Clustering, Neural Networks.\n"
   ]
  },
  {
   "cell_type": "code",
   "execution_count": null,
   "metadata": {},
   "outputs": [],
   "source": [
    "3)Test set: The sample of data used to provide an unbiased evaluation of a final model fit on the training dataset.\n",
    "  Validation Dataset: The sample of data used to provide an unbiased evaluation of a model fit on the training dataset while tuning model hyperparameters\n"
   ]
  },
  {
   "cell_type": "code",
   "execution_count": null,
   "metadata": {},
   "outputs": [],
   "source": [
    "4) Preprocessing steps:\n",
    "    first we remove duplicate records for not give that particular data object an advantage or bias, when running machine learning algorithms.\n",
    "    If our data is imbalanced like fraud dataset we need to analyze what we have.\n",
    "    for missing values we can remove or fill that values.\n",
    "    check data set has outliers If probabilistic algorithms will not be used then we have to normalized data. These values will lead to incorrect training of the model. \n",
    "    feature engineering is another important step. If some features correlated each other, we need to remove one of them. Also some features\n",
    "    features can be grouped together and used like categories or classes. And after that non numeric features can be transformed into \n",
    "    dummy features or if values are ordinal then we can use values like 1,2,3 etc.\n",
    "    then we need to seperate data for train and test. cross validation tecniques can be used.\n"
   ]
  },
  {
   "cell_type": "code",
   "execution_count": null,
   "metadata": {},
   "outputs": [],
   "source": [
    "5)for discrete variables bar plots can be used for explanation exploratory data analysis\n",
    " for contionus variables can be used for histograms.by using these graphs we can observe the distribution of variables.\n"
   ]
  },
  {
   "cell_type": "code",
   "execution_count": null,
   "metadata": {},
   "outputs": [],
   "source": [
    "6)It is a continous data, does not fit to the normal distribution.Maybe log function can be implemented or normalization tecnique can be used."
   ]
  }
 ],
 "metadata": {
  "kernelspec": {
   "display_name": "Python 3",
   "language": "python",
   "name": "python3"
  },
  "language_info": {
   "codemirror_mode": {
    "name": "ipython",
    "version": 3
   },
   "file_extension": ".py",
   "mimetype": "text/x-python",
   "name": "python",
   "nbconvert_exporter": "python",
   "pygments_lexer": "ipython3",
   "version": "3.7.6"
  }
 },
 "nbformat": 4,
 "nbformat_minor": 4
}
